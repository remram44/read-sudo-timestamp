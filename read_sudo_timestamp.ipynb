{
 "cells": [
  {
   "cell_type": "code",
   "execution_count": 1,
   "id": "5aede7c1",
   "metadata": {},
   "outputs": [],
   "source": [
    "import os\n",
    "import struct\n",
    "import sys"
   ]
  },
  {
   "cell_type": "code",
   "execution_count": 2,
   "id": "35ae7734",
   "metadata": {},
   "outputs": [],
   "source": [
    "import ctypes\n",
    "\n",
    "CLOCK_MONOTONIC_RAW = 4\n",
    "CLOCK_BOOTTIME = 7\n",
    "\n",
    "class timespec(ctypes.Structure):\n",
    "    _fields_ = [\n",
    "        ('tv_sec', ctypes.c_long),\n",
    "        ('tv_nsec', ctypes.c_long),\n",
    "    ]\n",
    "\n",
    "librt = ctypes.CDLL('librt.so.1', use_errno=True)\n",
    "\n",
    "clock_gettime = librt.clock_gettime\n",
    "clock_gettime.argtypes = [ctypes.c_int, ctypes.POINTER(timespec)]\n",
    "\n",
    "def boottime():\n",
    "    t = timespec()\n",
    "    if clock_gettime(CLOCK_BOOTTIME, ctypes.pointer(t)) != 0:\n",
    "        err = ctypes.get_errno()\n",
    "        raise OSError(err, os.strerror(err))\n",
    "\n",
    "    return t.tv_sec + t.tv_nsec * 1e-9"
   ]
  },
  {
   "cell_type": "code",
   "execution_count": 24,
   "id": "6e299b66",
   "metadata": {
    "scrolled": true
   },
   "outputs": [
    {
     "data": {
      "text/plain": [
       "'pipe:[6049998]'"
      ]
     },
     "execution_count": 24,
     "metadata": {},
     "output_type": "execute_result"
    }
   ],
   "source": [
    "tty = os.readlink('/proc/self/fd/0')\n",
    "tty"
   ]
  },
  {
   "cell_type": "code",
   "execution_count": 27,
   "id": "7b21eda8",
   "metadata": {},
   "outputs": [],
   "source": [
    "tty = '/dev/pts/2'\n",
    "target_tty = os.stat(tty).st_rdev"
   ]
  },
  {
   "cell_type": "code",
   "execution_count": 28,
   "id": "208195a1",
   "metadata": {},
   "outputs": [],
   "source": [
    "target_uid = 1000\n",
    "target_ppid = os.getppid()\n",
    "timeout = 900\n",
    "boot = boottime()"
   ]
  },
  {
   "cell_type": "code",
   "execution_count": 31,
   "id": "a7de45c7",
   "metadata": {},
   "outputs": [
    {
     "name": "stdout",
     "output_type": "stream",
     "text": [
      "found timestamp for tty 136:2, valid for 164.99s\n",
      "found timestamp for tty 136:2, valid for 924.25s\n"
     ]
    }
   ],
   "source": [
    "with open('/tmp/ts', 'rb') as fp:  # /var/run/sudo/ts/remram\n",
    "    ts = fp.read()\n",
    "\n",
    "pos = 0\n",
    "while pos < len(ts):\n",
    "    version, = struct.unpack('=h', ts[0:2])\n",
    "    size, = struct.unpack('=h', ts[2:4])\n",
    "\n",
    "    if version != 2:\n",
    "        print(f\"skipping record with version {version}\", file=sys.stderr)\n",
    "        pos += size\n",
    "        continue\n",
    "\n",
    "    type_, flags, auth_uid, sid, start_time_sec, start_time_nsec, ts_sec, ts_nsec, u = struct.unpack(\n",
    "        '='\n",
    "        'hh' # unsigned short type, flags\n",
    "        'l' # uid_t auth_uid\n",
    "        'l' # pid_t sid\n",
    "        'qq' # struct timespec start_time\n",
    "        'qq' # struct timespec ts\n",
    "        '8s' # union { dev_t, pid_t } u\n",
    "        ,\n",
    "        ts[pos + 4:pos + size],\n",
    "    )\n",
    "    pos += size\n",
    "\n",
    "    if type_ == 4:\n",
    "        # special lock record, skip\n",
    "        continue\n",
    "    assert type_ in (1, 2, 3)\n",
    "\n",
    "    if flags & 0x01:  # disabled\n",
    "        continue\n",
    "    any_uid = flags & 0x02\n",
    "\n",
    "    if not (any_uid or auth_uid == target_uid):\n",
    "        print(f\"record for other uid {auth_uid}\")\n",
    "        continue\n",
    "\n",
    "    validity = ts_sec + ts_nsec * 1e-9 - boot + timeout\n",
    "\n",
    "    if validity <= 0:\n",
    "        continue\n",
    "\n",
    "    if type_ == 1:\n",
    "        print(f\"found timestamp, valid for {validity:.2f}s\")\n",
    "    elif type_ == 2:\n",
    "        tty, = struct.unpack('=q', u)\n",
    "        tty_major = os.major(tty)\n",
    "        tty_minor = os.minor(tty)\n",
    "        if tty == target_tty:\n",
    "            # TODO: Check session start_time\n",
    "            print(f\"found timestamp for tty {tty_major}:{tty_minor}, valid for {validity:.2f}s\")\n",
    "    elif type_ == 3:\n",
    "        ppid, = struct.unpack('=l', u[:4])\n",
    "        if ppid == target_ppid:\n",
    "            # TODO: Check ppid start_time\n",
    "            print(f\"found timestamp for ppid {ppid}, valid for {validity:.2f}s\")"
   ]
  },
  {
   "cell_type": "code",
   "execution_count": null,
   "id": "6636efe9",
   "metadata": {},
   "outputs": [],
   "source": []
  }
 ],
 "metadata": {
  "kernelspec": {
   "display_name": "Python 3 (ipykernel)",
   "language": "python",
   "name": "python3"
  },
  "language_info": {
   "codemirror_mode": {
    "name": "ipython",
    "version": 3
   },
   "file_extension": ".py",
   "mimetype": "text/x-python",
   "name": "python",
   "nbconvert_exporter": "python",
   "pygments_lexer": "ipython3",
   "version": "3.10.6"
  }
 },
 "nbformat": 4,
 "nbformat_minor": 5
}
